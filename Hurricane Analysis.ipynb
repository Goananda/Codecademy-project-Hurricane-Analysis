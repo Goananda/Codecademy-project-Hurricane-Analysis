{
 "cells": [
  {
   "cell_type": "markdown",
   "metadata": {},
   "source": [
    "# Hurricane Analysis"
   ]
  },
  {
   "cell_type": "code",
   "execution_count": 1,
   "metadata": {},
   "outputs": [],
   "source": [
    "from data import names, months, years, max_sustained_winds, areas_affected, damages, deaths"
   ]
  },
  {
   "cell_type": "markdown",
   "metadata": {},
   "source": [
    "**names**: names of hurricanes<br>\n",
    "**months**: months of hurricanes<br>\n",
    "**years**: years of hurricanes<br>\n",
    "**max_sustained_winds**: maximum sustained winds (mph) of hurricanes<br>\n",
    "**areas_affected**: areas affected by each hurricanees<br>\n",
    "**damages**: damages (USD($)) of hurricanes<br>\n",
    "**deaths**: deaths for each hurricane<br>"
   ]
  },
  {
   "cell_type": "markdown",
   "metadata": {},
   "source": [
    "### Update damages"
   ]
  },
  {
   "cell_type": "code",
   "execution_count": 2,
   "metadata": {},
   "outputs": [],
   "source": [
    "def update_damages(damages):\n",
    "    d_dict = {'M': 1000000, 'B': 1000000000}\n",
    "    d_update = lambda x: x if x == 'Damages not recorded' else float(x[:-1])*d_dict[x[-1]]\n",
    "    return list(map(d_update, damages))"
   ]
  },
  {
   "cell_type": "code",
   "execution_count": 3,
   "metadata": {},
   "outputs": [
    {
     "name": "stdout",
     "output_type": "stream",
     "text": [
      "['Damages not recorded', 100000000.0, 'Damages not recorded', 40000000.0, 27900000.0, 5000000.0, 'Damages not recorded', 306000000.0, 2000000.0, 65800000.0, 326000000.0, 60300000.0, 208000000.0, 1420000000.0, 25400000.0, 'Damages not recorded', 1540000000.0, 1240000000.0, 7100000000.0, 10000000000.0, 26500000000.0, 6200000000.0, 5370000000.0, 23300000000.0, 1010000000.0, 125000000000.0, 12000000000.0, 29400000000.0, 1760000000.0, 720000000.0, 15100000000.0, 64800000000.0, 91600000000.0, 25100000000.0]\n"
     ]
    }
   ],
   "source": [
    "upd_damages = update_damages(damages)\n",
    "print(upd_damages)"
   ]
  },
  {
   "cell_type": "markdown",
   "metadata": {},
   "source": [
    "### Hurricane dictionary"
   ]
  },
  {
   "cell_type": "code",
   "execution_count": 4,
   "metadata": {},
   "outputs": [],
   "source": [
    "def make_dictionary(keys, values):\n",
    "    return {i[0]: {key: value for key, value in zip(keys, i)} for i in zip(*values)}"
   ]
  },
  {
   "cell_type": "code",
   "execution_count": 5,
   "metadata": {},
   "outputs": [
    {
     "name": "stdout",
     "output_type": "stream",
     "text": [
      "{'Name': 'Cuba I', 'Month': 'October', 'Year': 1924, 'Max Sustained Wind': 165, 'Areas Affected': ['Central America', 'Mexico', 'Cuba', 'Florida', 'The Bahamas'], 'Damage': 'Damages not recorded', 'Death': 90}\n"
     ]
    }
   ],
   "source": [
    "keys = ['Name', 'Month', 'Year', 'Max Sustained Wind', 'Areas Affected', 'Damage', 'Death']\n",
    "values = [names, months, years, max_sustained_winds, areas_affected, upd_damages, deaths]\n",
    "hurricanes = make_dictionary(keys, values)\n",
    "print(hurricanes['Cuba I'])"
   ]
  },
  {
   "cell_type": "markdown",
   "metadata": {},
   "source": [
    "### Hurricane by year dictionary"
   ]
  },
  {
   "cell_type": "code",
   "execution_count": 6,
   "metadata": {},
   "outputs": [],
   "source": [
    "def get_years_dictionary(dictionary):\n",
    "    years = set(item['Year'] for item in dictionary.values())\n",
    "    return {year: [x for x in dictionary.values() if x['Year'] == year] for year in years}"
   ]
  },
  {
   "cell_type": "code",
   "execution_count": 7,
   "metadata": {},
   "outputs": [
    {
     "name": "stdout",
     "output_type": "stream",
     "text": [
      "[{'Name': 'Bahamas', 'Month': 'September', 'Year': 1932, 'Max Sustained Wind': 160, 'Areas Affected': ['The Bahamas', 'Northeastern United States'], 'Damage': 'Damages not recorded', 'Death': 16}, {'Name': 'Cuba II', 'Month': 'November', 'Year': 1932, 'Max Sustained Wind': 175, 'Areas Affected': ['Lesser Antilles', 'Jamaica', 'Cayman Islands', 'Cuba', 'The Bahamas', 'Bermuda'], 'Damage': 40000000.0, 'Death': 3103}]\n"
     ]
    }
   ],
   "source": [
    "years_dictionary = get_years_dictionary(hurricanes)\n",
    "print(years_dictionary[1932])"
   ]
  },
  {
   "cell_type": "markdown",
   "metadata": {},
   "source": [
    "### Count affected areas"
   ]
  },
  {
   "cell_type": "code",
   "execution_count": 8,
   "metadata": {},
   "outputs": [],
   "source": [
    "from itertools import chain\n",
    "\n",
    "def get_areas_dictionary(dictionary):\n",
    "    areas = list(chain(*[item['Areas Affected'] for item in dictionary.values()]))\n",
    "    return {area: areas.count(area) for area in set(areas)}"
   ]
  },
  {
   "cell_type": "code",
   "execution_count": 9,
   "metadata": {},
   "outputs": [
    {
     "name": "stdout",
     "output_type": "stream",
     "text": [
      "{'Texas': 4, 'Eastern United States': 1, 'Atlantic Canada': 3, 'Colombia': 1, 'New England': 1, 'United States Gulf Coast': 6, 'United States East Coast': 3, 'Cuba': 6, 'Mexico': 7, 'Venezuela': 3, 'Hispaniola': 1, 'Virgin Islands': 1, 'Lesser Antilles': 4, 'Ontario': 1, 'United States East coast': 1, 'United States Gulf Coast (especially Florida Panhandle)': 1, 'Bermuda': 2, 'Antilles': 1, 'Georgia': 1, 'Jamaica': 4, 'The Bahamas': 7, 'South Florida': 1, 'Bahamas': 2, 'Nicaragua': 1, 'Cayman Islands': 1, 'British Virgin Islands': 1, 'Midwestern United States': 1, 'Greater Antilles': 2, 'Windward Islands': 1, 'Cape Verde': 1, 'Puerto Rico': 1, 'Louisiana': 1, 'Turks and Caicos Islands': 1, 'Florida': 6, 'Southeastern United States': 1, 'Southwestern Quebec': 1, 'Virginia': 1, 'Tamaulipas': 1, 'Honduras': 1, 'U.S. Virgin Islands': 1, 'The Carolinas': 1, 'South Texas': 1, 'Yucatn Peninsula': 3, 'The Caribbean': 8, 'Central America': 9, 'Northeastern United States': 2, 'Dominican Republic': 1}\n"
     ]
    }
   ],
   "source": [
    "areas_dictionary = get_areas_dictionary(hurricanes)\n",
    "print(areas_dictionary)"
   ]
  },
  {
   "cell_type": "markdown",
   "metadata": {},
   "source": [
    "### Most affected area"
   ]
  },
  {
   "cell_type": "code",
   "execution_count": 10,
   "metadata": {},
   "outputs": [],
   "source": [
    "def get_most_affected_area(areas_dictionary):\n",
    "    return (area := max(areas_dictionary, key=lambda x: areas_dictionary[x]), areas_dictionary[area])"
   ]
  },
  {
   "cell_type": "code",
   "execution_count": 11,
   "metadata": {},
   "outputs": [
    {
     "name": "stdout",
     "output_type": "stream",
     "text": [
      "('Central America', 9)\n"
     ]
    }
   ],
   "source": [
    "most_affected_area = get_most_affected_area(areas_dictionary)\n",
    "print(most_affected_area)"
   ]
  },
  {
   "cell_type": "markdown",
   "metadata": {},
   "source": [
    "### Greatest number of deaths"
   ]
  },
  {
   "cell_type": "code",
   "execution_count": 12,
   "metadata": {},
   "outputs": [],
   "source": [
    "def get_greatest_death_area(dictionary):\n",
    "    return (area := max(dictionary, key=lambda x: dictionary[x]['Death']), dictionary[area]['Death'])"
   ]
  },
  {
   "cell_type": "code",
   "execution_count": 13,
   "metadata": {},
   "outputs": [
    {
     "name": "stdout",
     "output_type": "stream",
     "text": [
      "('Mitch', 19325)\n"
     ]
    }
   ],
   "source": [
    "greatest_death_area = get_greatest_death_area(hurricanes)\n",
    "print(greatest_death_area)"
   ]
  },
  {
   "cell_type": "markdown",
   "metadata": {},
   "source": [
    "### Catgeorize by mortality"
   ]
  },
  {
   "cell_type": "code",
   "execution_count": 14,
   "metadata": {},
   "outputs": [],
   "source": [
    "def mortality(item):\n",
    "    if item['Death'] > 10000:\n",
    "        mortality = 5\n",
    "    elif item['Death'] > 1000:\n",
    "        mortality = 4\n",
    "    elif item['Death'] > 500:\n",
    "        mortality = 3\n",
    "    elif item['Death'] > 100:\n",
    "        mortality = 2\n",
    "    elif item['Death'] > 0:\n",
    "        mortality = 1\n",
    "    else:\n",
    "        mortality = 0\n",
    "    return mortality\n",
    "\n",
    "def get_mortality_dictionary(dictionary):\n",
    "    return {mor: list(filter(lambda x: mortality(x) == mor, dictionary.values())) for mor in range(6)}"
   ]
  },
  {
   "cell_type": "code",
   "execution_count": 15,
   "metadata": {},
   "outputs": [
    {
     "name": "stdout",
     "output_type": "stream",
     "text": [
      "[{'Name': 'Mitch', 'Month': 'October', 'Year': 1998, 'Max Sustained Wind': 180, 'Areas Affected': ['Central America', 'Yucatn Peninsula', 'South Florida'], 'Damage': 6200000000.0, 'Death': 19325}]\n"
     ]
    }
   ],
   "source": [
    "mortality_dictionary = get_mortality_dictionary(hurricanes)\n",
    "print(mortality_dictionary[5])"
   ]
  },
  {
   "cell_type": "markdown",
   "metadata": {},
   "source": [
    "### Greatest damage"
   ]
  },
  {
   "cell_type": "code",
   "execution_count": 16,
   "metadata": {},
   "outputs": [],
   "source": [
    "def get_greatest_damage(dictionary):\n",
    "    recorded = [item for item in dictionary if type(dictionary[item]['Damage']) == float]\n",
    "    return (key := max(recorded, key=lambda x: dictionary[x]['Damage']), dictionary[key]['Damage'])"
   ]
  },
  {
   "cell_type": "code",
   "execution_count": 17,
   "metadata": {},
   "outputs": [
    {
     "name": "stdout",
     "output_type": "stream",
     "text": [
      "('Katrina', 125000000000.0)\n"
     ]
    }
   ],
   "source": [
    "greatest_damage = get_greatest_damage(hurricanes)\n",
    "print(greatest_damage)"
   ]
  },
  {
   "cell_type": "markdown",
   "metadata": {},
   "source": [
    "### Catgeorize by damage"
   ]
  },
  {
   "cell_type": "code",
   "execution_count": 18,
   "metadata": {},
   "outputs": [],
   "source": [
    "def damage_scale(item):\n",
    "    if item['Damage'] == 'Damages not recorded':\n",
    "        damage_scale = None\n",
    "    elif item['Damage'] > 50000000000:\n",
    "        damage_scale = 5\n",
    "    elif item['Damage'] > 10000000000:\n",
    "        damage_scale = 4\n",
    "    elif item['Damage'] > 1000000000:\n",
    "        damage_scale = 3\n",
    "    elif item['Damage'] > 100000000:\n",
    "        damage_scale = 2\n",
    "    elif item['Damage'] > 0:\n",
    "        damage_scale = 1\n",
    "    elif item['Damage'] == 0:\n",
    "        damage_scale = 0\n",
    "    return damage_scale\n",
    "\n",
    "def get_damage_scale_dictionary(dictionary):\n",
    "    return {dam: list(filter(lambda x: damage_scale(x) == dam, dictionary.values())) for dam in range(6)}"
   ]
  },
  {
   "cell_type": "code",
   "execution_count": 19,
   "metadata": {},
   "outputs": [
    {
     "name": "stdout",
     "output_type": "stream",
     "text": [
      "[{'Name': 'Katrina', 'Month': 'August', 'Year': 2005, 'Max Sustained Wind': 175, 'Areas Affected': ['Bahamas', 'United States Gulf Coast'], 'Damage': 125000000000.0, 'Death': 1836}, {'Name': 'Irma', 'Month': 'September', 'Year': 2017, 'Max Sustained Wind': 180, 'Areas Affected': ['Cape Verde', 'The Caribbean', 'British Virgin Islands', 'U.S. Virgin Islands', 'Cuba', 'Florida'], 'Damage': 64800000000.0, 'Death': 138}, {'Name': 'Maria', 'Month': 'September', 'Year': 2017, 'Max Sustained Wind': 175, 'Areas Affected': ['Lesser Antilles', 'Virgin Islands', 'Puerto Rico', 'Dominican Republic', 'Turks and Caicos Islands'], 'Damage': 91600000000.0, 'Death': 3057}]\n"
     ]
    }
   ],
   "source": [
    "damage_dictionary = get_damage_scale_dictionary(hurricanes)\n",
    "print(damage_dictionary[5])"
   ]
  }
 ],
 "metadata": {
  "kernelspec": {
   "display_name": "pipenv",
   "language": "python",
   "name": "pipenv"
  },
  "language_info": {
   "codemirror_mode": {
    "name": "ipython",
    "version": 3
   },
   "file_extension": ".py",
   "mimetype": "text/x-python",
   "name": "python",
   "nbconvert_exporter": "python",
   "pygments_lexer": "ipython3",
   "version": "3.8.2"
  }
 },
 "nbformat": 4,
 "nbformat_minor": 4
}
